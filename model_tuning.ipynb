{
 "cells": [
  {
   "cell_type": "code",
   "execution_count": 67,
   "id": "d9164e2a",
   "metadata": {},
   "outputs": [],
   "source": [
    "import pandas as pd\n",
    "import numpy as np\n",
    "from sklearn.ensemble import RandomForestRegressor\n",
    "from sklearn.ensemble import GradientBoostingRegressor\n",
    "from sklearn.model_selection import RandomizedSearchCV\n",
    "from sklearn.model_selection import RepeatedKFold\n",
    "from sklearn.model_selection import train_test_split\n",
    "import seaborn as sns\n",
    "import pickle\n",
    "%matplotlib inline"
   ]
  },
  {
   "cell_type": "code",
   "execution_count": 39,
   "id": "9d6e5d9e",
   "metadata": {},
   "outputs": [],
   "source": [
    "marathon = pd.read_csv(r'Final_Mara_attr_times.csv')"
   ]
  },
  {
   "cell_type": "code",
   "execution_count": 40,
   "id": "3f43332c",
   "metadata": {},
   "outputs": [],
   "source": [
    "marathon.fillna(-1, inplace=True)"
   ]
  },
  {
   "cell_type": "code",
   "execution_count": 41,
   "id": "80e02684",
   "metadata": {},
   "outputs": [
    {
     "data": {
      "text/html": [
       "<div>\n",
       "<style scoped>\n",
       "    .dataframe tbody tr th:only-of-type {\n",
       "        vertical-align: middle;\n",
       "    }\n",
       "\n",
       "    .dataframe tbody tr th {\n",
       "        vertical-align: top;\n",
       "    }\n",
       "\n",
       "    .dataframe thead th {\n",
       "        text-align: right;\n",
       "    }\n",
       "</style>\n",
       "<table border=\"1\" class=\"dataframe\">\n",
       "  <thead>\n",
       "    <tr style=\"text-align: right;\">\n",
       "      <th></th>\n",
       "      <th>Results</th>\n",
       "      <th>Year</th>\n",
       "      <th>Age</th>\n",
       "      <th>Previous marathons</th>\n",
       "      <th>GDP</th>\n",
       "      <th>Weight</th>\n",
       "      <th>Height</th>\n",
       "      <th>Last Time</th>\n",
       "    </tr>\n",
       "  </thead>\n",
       "  <tbody>\n",
       "    <tr>\n",
       "      <th>0</th>\n",
       "      <td>7377.0</td>\n",
       "      <td>2014</td>\n",
       "      <td>37</td>\n",
       "      <td>5</td>\n",
       "      <td>6.144535e+10</td>\n",
       "      <td>-1.0</td>\n",
       "      <td>-1.0</td>\n",
       "      <td>7425.0</td>\n",
       "    </tr>\n",
       "    <tr>\n",
       "      <th>1</th>\n",
       "      <td>7425.0</td>\n",
       "      <td>2013</td>\n",
       "      <td>37</td>\n",
       "      <td>5</td>\n",
       "      <td>5.509734e+10</td>\n",
       "      <td>-1.0</td>\n",
       "      <td>-1.0</td>\n",
       "      <td>7610.0</td>\n",
       "    </tr>\n",
       "    <tr>\n",
       "      <th>2</th>\n",
       "      <td>7456.0</td>\n",
       "      <td>2012</td>\n",
       "      <td>37</td>\n",
       "      <td>5</td>\n",
       "      <td>5.041275e+10</td>\n",
       "      <td>-1.0</td>\n",
       "      <td>-1.0</td>\n",
       "      <td>-1.0</td>\n",
       "    </tr>\n",
       "    <tr>\n",
       "      <th>3</th>\n",
       "      <td>7550.0</td>\n",
       "      <td>2015</td>\n",
       "      <td>37</td>\n",
       "      <td>5</td>\n",
       "      <td>6.376754e+10</td>\n",
       "      <td>-1.0</td>\n",
       "      <td>-1.0</td>\n",
       "      <td>7377.0</td>\n",
       "    </tr>\n",
       "    <tr>\n",
       "      <th>4</th>\n",
       "      <td>7610.0</td>\n",
       "      <td>2013</td>\n",
       "      <td>37</td>\n",
       "      <td>5</td>\n",
       "      <td>5.509734e+10</td>\n",
       "      <td>-1.0</td>\n",
       "      <td>-1.0</td>\n",
       "      <td>7456.0</td>\n",
       "    </tr>\n",
       "    <tr>\n",
       "      <th>...</th>\n",
       "      <td>...</td>\n",
       "      <td>...</td>\n",
       "      <td>...</td>\n",
       "      <td>...</td>\n",
       "      <td>...</td>\n",
       "      <td>...</td>\n",
       "      <td>...</td>\n",
       "      <td>...</td>\n",
       "    </tr>\n",
       "    <tr>\n",
       "      <th>996</th>\n",
       "      <td>7704.0</td>\n",
       "      <td>2010</td>\n",
       "      <td>35</td>\n",
       "      <td>1</td>\n",
       "      <td>2.018650e+10</td>\n",
       "      <td>-1.0</td>\n",
       "      <td>-1.0</td>\n",
       "      <td>-1.0</td>\n",
       "    </tr>\n",
       "    <tr>\n",
       "      <th>997</th>\n",
       "      <td>7704.0</td>\n",
       "      <td>2012</td>\n",
       "      <td>35</td>\n",
       "      <td>1</td>\n",
       "      <td>6.203213e+12</td>\n",
       "      <td>-1.0</td>\n",
       "      <td>-1.0</td>\n",
       "      <td>-1.0</td>\n",
       "    </tr>\n",
       "    <tr>\n",
       "      <th>998</th>\n",
       "      <td>7705.0</td>\n",
       "      <td>1999</td>\n",
       "      <td>59</td>\n",
       "      <td>1</td>\n",
       "      <td>1.289601e+10</td>\n",
       "      <td>-1.0</td>\n",
       "      <td>-1.0</td>\n",
       "      <td>-1.0</td>\n",
       "    </tr>\n",
       "    <tr>\n",
       "      <th>999</th>\n",
       "      <td>7705.0</td>\n",
       "      <td>2010</td>\n",
       "      <td>33</td>\n",
       "      <td>1</td>\n",
       "      <td>2.993379e+10</td>\n",
       "      <td>-1.0</td>\n",
       "      <td>-1.0</td>\n",
       "      <td>-1.0</td>\n",
       "    </tr>\n",
       "    <tr>\n",
       "      <th>1000</th>\n",
       "      <td>7705.0</td>\n",
       "      <td>2011</td>\n",
       "      <td>45</td>\n",
       "      <td>1</td>\n",
       "      <td>4.195343e+10</td>\n",
       "      <td>-1.0</td>\n",
       "      <td>-1.0</td>\n",
       "      <td>-1.0</td>\n",
       "    </tr>\n",
       "  </tbody>\n",
       "</table>\n",
       "<p>1001 rows × 8 columns</p>\n",
       "</div>"
      ],
      "text/plain": [
       "      Results  Year  Age  Previous marathons           GDP  Weight  Height  \\\n",
       "0      7377.0  2014   37                   5  6.144535e+10    -1.0    -1.0   \n",
       "1      7425.0  2013   37                   5  5.509734e+10    -1.0    -1.0   \n",
       "2      7456.0  2012   37                   5  5.041275e+10    -1.0    -1.0   \n",
       "3      7550.0  2015   37                   5  6.376754e+10    -1.0    -1.0   \n",
       "4      7610.0  2013   37                   5  5.509734e+10    -1.0    -1.0   \n",
       "...       ...   ...  ...                 ...           ...     ...     ...   \n",
       "996    7704.0  2010   35                   1  2.018650e+10    -1.0    -1.0   \n",
       "997    7704.0  2012   35                   1  6.203213e+12    -1.0    -1.0   \n",
       "998    7705.0  1999   59                   1  1.289601e+10    -1.0    -1.0   \n",
       "999    7705.0  2010   33                   1  2.993379e+10    -1.0    -1.0   \n",
       "1000   7705.0  2011   45                   1  4.195343e+10    -1.0    -1.0   \n",
       "\n",
       "      Last Time  \n",
       "0        7425.0  \n",
       "1        7610.0  \n",
       "2          -1.0  \n",
       "3        7377.0  \n",
       "4        7456.0  \n",
       "...         ...  \n",
       "996        -1.0  \n",
       "997        -1.0  \n",
       "998        -1.0  \n",
       "999        -1.0  \n",
       "1000       -1.0  \n",
       "\n",
       "[1001 rows x 8 columns]"
      ]
     },
     "execution_count": 41,
     "metadata": {},
     "output_type": "execute_result"
    }
   ],
   "source": [
    "marathon"
   ]
  },
  {
   "cell_type": "code",
   "execution_count": 42,
   "id": "e24080af",
   "metadata": {},
   "outputs": [],
   "source": [
    "y = marathon['Results']\n",
    "X = marathon.iloc[:,1:]"
   ]
  },
  {
   "cell_type": "code",
   "execution_count": 44,
   "id": "35636933",
   "metadata": {},
   "outputs": [
    {
     "data": {
      "text/plain": [
       "(1001, 7)"
      ]
     },
     "execution_count": 44,
     "metadata": {},
     "output_type": "execute_result"
    }
   ],
   "source": [
    "X.shape"
   ]
  },
  {
   "cell_type": "code",
   "execution_count": 48,
   "id": "271d2103",
   "metadata": {},
   "outputs": [],
   "source": [
    "X_train, X_test, y_train, y_test = train_test_split(X, y, test_size=.2)\n"
   ]
  },
  {
   "cell_type": "code",
   "execution_count": 72,
   "id": "79184866",
   "metadata": {},
   "outputs": [],
   "source": [
    "def model_cv(X_train, y_train):\n",
    "\n",
    "    # Model\n",
    "\n",
    "    gb = GradientBoostingRegressor()\n",
    "\n",
    "    # Space\n",
    "    \n",
    "    gb_space = {\n",
    "        'learning_rate': [1, 0.5, 0.25, 0.1, 0.05, 0.01],\n",
    "        'n_estimators': [1, 2, 4, 8, 16, 32, 64, 100, 200, 250, 3500, 350, 450, 500, 1000],\n",
    "        'max_depth': np.linspace(1, 32, 32, endpoint=True),\n",
    "        'min_samples_split': np.linspace(0.1, 1.0, 10, endpoint=True),\n",
    "        'min_samples_leaf': np.linspace(0.1, 0.5, 5, endpoint=True)\n",
    "    }\n",
    "\n",
    "    # Tuning\n",
    "\n",
    "\n",
    "    cv = RepeatedKFold(n_splits=10, n_repeats=3)\n",
    "    search = RandomizedSearchCV(gb, gb_space, n_iter=500, scoring='neg_root_mean_squared_error', n_jobs=-1, cv=cv, verbose=1)\n",
    "\n",
    "    result = search.fit(X_train, y_train)\n",
    "\n",
    "    return result"
   ]
  },
  {
   "cell_type": "code",
   "execution_count": null,
   "id": "402320b7",
   "metadata": {},
   "outputs": [],
   "source": [
    "models = model_cv(X_train, y_train)"
   ]
  },
  {
   "cell_type": "code",
   "execution_count": 59,
   "id": "8d92140b",
   "metadata": {},
   "outputs": [],
   "source": [
    "# Save as .pkl\n",
    "\n",
    "# output = open('gb_model.pkl', 'wb')\n",
    "# pickle.dump(models[0], output)\n",
    "# output.close()"
   ]
  },
  {
   "cell_type": "code",
   "execution_count": 60,
   "id": "bb74306d",
   "metadata": {},
   "outputs": [],
   "source": [
    "# Open .pkl file\n",
    "\n",
    "pkl_file = open('gb_model.pkl', 'rb')\n",
    "gb_model = pickle.load(pkl_file)\n",
    "pkl_file.close()"
   ]
  },
  {
   "cell_type": "code",
   "execution_count": null,
   "id": "471e0bb6",
   "metadata": {},
   "outputs": [],
   "source": []
  }
 ],
 "metadata": {
  "kernelspec": {
   "display_name": "Python 3",
   "language": "python",
   "name": "python3"
  },
  "language_info": {
   "codemirror_mode": {
    "name": "ipython",
    "version": 3
   },
   "file_extension": ".py",
   "mimetype": "text/x-python",
   "name": "python",
   "nbconvert_exporter": "python",
   "pygments_lexer": "ipython3",
   "version": "3.8.8"
  }
 },
 "nbformat": 4,
 "nbformat_minor": 5
}
