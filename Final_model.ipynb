{
 "cells": [
  {
   "cell_type": "code",
   "execution_count": 1,
   "id": "d9a74fee",
   "metadata": {},
   "outputs": [],
   "source": [
    "#import packages\n",
    "import pandas as pd\n",
    "import numpy as np\n",
    "from sklearn.inspection import PartialDependenceDisplay\n",
    "from sklearn.metrics import mean_squared_error, mean_absolute_error"
   ]
  },
  {
   "cell_type": "code",
   "execution_count": 2,
   "id": "391d10b9",
   "metadata": {},
   "outputs": [
    {
     "name": "stdout",
     "output_type": "stream",
     "text": [
      "      Year  Age  Previous marathons           GDP  Weight  Height  Last Time\n",
      "0     2014   37                   5  6.144535e+10    -1.0    -1.0     7425.0\n",
      "1     2013   37                   5  5.509734e+10    -1.0    -1.0     7610.0\n",
      "2     2012   37                   5  5.041275e+10    -1.0    -1.0       -1.0\n",
      "3     2015   37                   5  6.376754e+10    -1.0    -1.0     7377.0\n",
      "4     2013   37                   5  5.509734e+10    -1.0    -1.0     7456.0\n",
      "...    ...  ...                 ...           ...     ...     ...        ...\n",
      "996   2010   35                   1  2.018650e+10    -1.0    -1.0       -1.0\n",
      "997   2012   35                   1  6.203213e+12    -1.0    -1.0       -1.0\n",
      "998   1999   59                   1  1.289601e+10    -1.0    -1.0       -1.0\n",
      "999   2010   33                   1  2.993379e+10    -1.0    -1.0       -1.0\n",
      "1000  2011   45                   1  4.195343e+10    -1.0    -1.0       -1.0\n",
      "\n",
      "[1001 rows x 7 columns]\n",
      "    Age  Height  Weight  Year           GDP  Previous marathons  Last Time\n",
      "0    28    -1.0    -1.0  2021  2.407893e+10                 0.0       -1.0\n",
      "1    29   164.0    52.0  2021  3.177448e+11                 0.0       -1.0\n",
      "2    35   175.0    61.0  2021 -1.000000e+00                 0.0       -1.0\n",
      "3    30   176.0    60.0  2021  1.204616e+12                 0.0       -1.0\n",
      "4    28    -1.0    -1.0  2021  4.940159e+12                 0.0       -1.0\n",
      "..  ...     ...     ...   ...           ...                 ...        ...\n",
      "71   40   172.0    52.0  2021  1.237255e+12                 0.0       -1.0\n",
      "72   31    -1.0    -1.0  2021  3.177448e+11                 0.0       -1.0\n",
      "73   38   175.0    59.0  2021  3.048190e+11                 0.0       -1.0\n",
      "74   29    -1.0    -1.0  2021  1.119915e+13                 0.0       -1.0\n",
      "75   31    -1.0    -1.0  2021  5.454761e+11                 0.0       -1.0\n",
      "\n",
      "[76 rows x 7 columns]\n"
     ]
    }
   ],
   "source": [
    "#Read in train data\n",
    "marathon = pd.read_csv(r'Final_Mara_attr_times.csv')\n",
    "marathon.fillna(-1, inplace=True)\n",
    "#prepare data for in sample prediction\n",
    "y = marathon['Results']\n",
    "X = marathon.iloc[:,1:]\n",
    "#prepare test data for oos prediction\n",
    "marathon_test = pd.read_csv(r'2021_final.csv')\n",
    "marathon_test['Previous marathons'].fillna(0, inplace=True)\n",
    "marathon_test.fillna(-1, inplace=True)\n",
    "marathon_test.drop('Unnamed: 0', axis = 1, inplace = True)\n",
    "marathon_test.rename({'age': 'Age', 'weight': 'Weight', 'height': 'Height', 'Value': 'GDP', 'Time': 'Results'}, axis = 1, inplace=True)\n",
    "y_test = marathon_test['Results']\n",
    "X_test = marathon_test.drop('Results', axis = 1)\n",
    "print(X)\n",
    "print(X_test)"
   ]
  },
  {
   "cell_type": "code",
   "execution_count": 3,
   "id": "8210f581",
   "metadata": {},
   "outputs": [
    {
     "data": {
      "text/html": [
       "<div>\n",
       "<style scoped>\n",
       "    .dataframe tbody tr th:only-of-type {\n",
       "        vertical-align: middle;\n",
       "    }\n",
       "\n",
       "    .dataframe tbody tr th {\n",
       "        vertical-align: top;\n",
       "    }\n",
       "\n",
       "    .dataframe thead th {\n",
       "        text-align: right;\n",
       "    }\n",
       "</style>\n",
       "<table border=\"1\" class=\"dataframe\">\n",
       "  <thead>\n",
       "    <tr style=\"text-align: right;\">\n",
       "      <th></th>\n",
       "      <th>Year</th>\n",
       "      <th>Age</th>\n",
       "      <th>Previous marathons</th>\n",
       "      <th>GDP</th>\n",
       "      <th>Weight</th>\n",
       "      <th>Height</th>\n",
       "      <th>Last Time</th>\n",
       "    </tr>\n",
       "  </thead>\n",
       "  <tbody>\n",
       "    <tr>\n",
       "      <th>0</th>\n",
       "      <td>2014</td>\n",
       "      <td>37</td>\n",
       "      <td>5</td>\n",
       "      <td>6.144535e+10</td>\n",
       "      <td>-1.0</td>\n",
       "      <td>-1.0</td>\n",
       "      <td>7425.0</td>\n",
       "    </tr>\n",
       "    <tr>\n",
       "      <th>1</th>\n",
       "      <td>2013</td>\n",
       "      <td>37</td>\n",
       "      <td>5</td>\n",
       "      <td>5.509734e+10</td>\n",
       "      <td>-1.0</td>\n",
       "      <td>-1.0</td>\n",
       "      <td>7610.0</td>\n",
       "    </tr>\n",
       "    <tr>\n",
       "      <th>2</th>\n",
       "      <td>2012</td>\n",
       "      <td>37</td>\n",
       "      <td>5</td>\n",
       "      <td>5.041275e+10</td>\n",
       "      <td>-1.0</td>\n",
       "      <td>-1.0</td>\n",
       "      <td>-1.0</td>\n",
       "    </tr>\n",
       "    <tr>\n",
       "      <th>3</th>\n",
       "      <td>2015</td>\n",
       "      <td>37</td>\n",
       "      <td>5</td>\n",
       "      <td>6.376754e+10</td>\n",
       "      <td>-1.0</td>\n",
       "      <td>-1.0</td>\n",
       "      <td>7377.0</td>\n",
       "    </tr>\n",
       "    <tr>\n",
       "      <th>4</th>\n",
       "      <td>2013</td>\n",
       "      <td>37</td>\n",
       "      <td>5</td>\n",
       "      <td>5.509734e+10</td>\n",
       "      <td>-1.0</td>\n",
       "      <td>-1.0</td>\n",
       "      <td>7456.0</td>\n",
       "    </tr>\n",
       "  </tbody>\n",
       "</table>\n",
       "</div>"
      ],
      "text/plain": [
       "   Year  Age  Previous marathons           GDP  Weight  Height  Last Time\n",
       "0  2014   37                   5  6.144535e+10    -1.0    -1.0     7425.0\n",
       "1  2013   37                   5  5.509734e+10    -1.0    -1.0     7610.0\n",
       "2  2012   37                   5  5.041275e+10    -1.0    -1.0       -1.0\n",
       "3  2015   37                   5  6.376754e+10    -1.0    -1.0     7377.0\n",
       "4  2013   37                   5  5.509734e+10    -1.0    -1.0     7456.0"
      ]
     },
     "execution_count": 3,
     "metadata": {},
     "output_type": "execute_result"
    }
   ],
   "source": [
    "X.head()"
   ]
  },
  {
   "cell_type": "code",
   "execution_count": 4,
   "id": "b933a442",
   "metadata": {},
   "outputs": [
    {
     "data": {
      "text/plain": [
       "count    1001.000000\n",
       "mean     4450.256743\n",
       "std      3755.888145\n",
       "min        -1.000000\n",
       "25%        -1.000000\n",
       "50%      7536.000000\n",
       "75%      7643.000000\n",
       "max      7705.000000\n",
       "Name: Last Time, dtype: float64"
      ]
     },
     "execution_count": 4,
     "metadata": {},
     "output_type": "execute_result"
    }
   ],
   "source": [
    "X['Last Time'].describe()"
   ]
  },
  {
   "cell_type": "code",
   "execution_count": 4,
   "id": "53b7c8d9",
   "metadata": {},
   "outputs": [],
   "source": [
    "#read in model\n",
    "gb_mod = pd.read_pickle(r'gb_model.pkl')"
   ]
  },
  {
   "cell_type": "code",
   "execution_count": 6,
   "id": "cfc63e48",
   "metadata": {},
   "outputs": [
    {
     "data": {
      "text/plain": [
       "<sklearn.inspection._plot.partial_dependence.PartialDependenceDisplay at 0x2355839d730>"
      ]
     },
     "execution_count": 6,
     "metadata": {},
     "output_type": "execute_result"
    },
    {
     "data": {
      "image/png": "[encoded data removed]",
      "text/plain": [
       "<Figure size 432x288 with 2 Axes>"
      ]
     },
     "metadata": {
      "needs_background": "light"
     },
     "output_type": "display_data"
    },
    {
     "data": {
      "image/png": "[encoded data removed]",
      "text/plain": [
       "<Figure size 432x288 with 2 Axes>"
      ]
     },
     "metadata": {
      "needs_background": "light"
     },
     "output_type": "display_data"
    },
    {
     "data": {
      "image/png": "[encoded data removed]",
      "text/plain": [
       "<Figure size 432x288 with 2 Axes>"
      ]
     },
     "metadata": {
      "needs_background": "light"
     },
     "output_type": "display_data"
    },
    {
     "data": {
      "image/png": "[encoded data removed]",
      "text/plain": [
       "<Figure size 432x288 with 2 Axes>"
      ]
     },
     "metadata": {
      "needs_background": "light"
     },
     "output_type": "display_data"
    }
   ],
   "source": [
    "#get partial dependence plots\n",
    "PartialDependenceDisplay.from_estimator(gb_mod, X, [1])\n",
    "PartialDependenceDisplay.from_estimator(gb_mod, X, [2])\n",
    "PartialDependenceDisplay.from_estimator(gb_mod, X, [3])\n",
    "PartialDependenceDisplay.from_estimator(gb_mod, X, [6])"
   ]
  },
  {
   "cell_type": "code",
   "execution_count": 10,
   "id": "5eea8acf",
   "metadata": {},
   "outputs": [
    {
     "name": "stdout",
     "output_type": "stream",
     "text": [
      "774.9798679342109\n",
      "363.48891854610525\n"
     ]
    },
    {
     "name": "stderr",
     "output_type": "stream",
     "text": [
      "C:\\Users\\ritch\\anaconda3\\lib\\site-packages\\sklearn\\base.py:488: FutureWarning: The feature names should match those that were passed during fit. Starting version 1.2, an error will be raised.\n",
      "Feature names must be in the same order as they were in fit.\n",
      "\n",
      "  warnings.warn(message, FutureWarning)\n"
     ]
    }
   ],
   "source": [
    "#compare test rmse and test standard deviation\n",
    "pred = gb_mod.predict(X_test)\n",
    "mse = mean_squared_error(y_test, pred)\n",
    "print(np.sqrt(mse))\n",
    "print(np.std(y_test))"
   ]
  },
  {
   "cell_type": "code",
   "execution_count": 11,
   "id": "b44e3d5b",
   "metadata": {},
   "outputs": [
    {
     "data": {
      "text/plain": [
       "-685.3535174270559"
      ]
     },
     "execution_count": 11,
     "metadata": {},
     "output_type": "execute_result"
    }
   ],
   "source": [
    "#find test bias\n",
    "np.mean(pred - y_test)"
   ]
  },
  {
   "cell_type": "code",
   "execution_count": 8,
   "id": "cd0eb5ab",
   "metadata": {},
   "outputs": [
    {
     "name": "stdout",
     "output_type": "stream",
     "text": [
      "55.916330515231905\n",
      "64.53606116517635\n"
     ]
    }
   ],
   "source": [
    "#get train oos rmse and train standard deviation\n",
    "pred = gb_mod.predict(X)\n",
    "mse = mean_squared_error(y, pred)\n",
    "print(np.sqrt(mse))\n",
    "print(np.std(y))"
   ]
  },
  {
   "cell_type": "code",
   "execution_count": 8,
   "id": "5e49e170",
   "metadata": {},
   "outputs": [
    {
     "name": "stdout",
     "output_type": "stream",
     "text": [
      "-58.91980066100441\n",
      "[0.10581701 0.15108714 0.48544842 0.06408899 0.00256487 0.0182144\n",
      " 0.17277917]\n",
      "['Year' 'Age' 'Previous marathons' 'GDP' 'Weight' 'Height' 'Last Time']\n"
     ]
    }
   ],
   "source": [
    "#Get train in sample rmse and variable importance\n",
    "print(gb_mod.best_score_)\n",
    "print(gb_mod.best_estimator_.feature_importances_)\n",
    "print(gb_mod.best_estimator_.feature_names_in_)"
   ]
  },
  {
   "cell_type": "code",
   "execution_count": null,
   "id": "9cf6ad19",
   "metadata": {},
   "outputs": [],
   "source": []
  }
 ],
 "metadata": {
  "kernelspec": {
   "display_name": "Python 3",
   "language": "python",
   "name": "python3"
  },
  "language_info": {
   "codemirror_mode": {
    "name": "ipython",
    "version": 3
   },
   "file_extension": ".py",
   "mimetype": "text/x-python",
   "name": "python",
   "nbconvert_exporter": "python",
   "pygments_lexer": "ipython3",
   "version": "3.8.8"
  }
 },
 "nbformat": 4,
 "nbformat_minor": 5
}
