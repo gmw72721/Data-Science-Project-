{
 "cells": [
  {
   "cell_type": "markdown",
   "id": "6df39888",
   "metadata": {
    "id": "6df39888"
   },
   "source": [
    "# Scraping Script"
   ]
  },
  {
   "cell_type": "markdown",
   "id": "c222640e",
   "metadata": {
    "id": "c222640e"
   },
   "source": [
    "## Import packages"
   ]
  },
  {
   "cell_type": "code",
   "execution_count": 1,
   "id": "76563bf9",
   "metadata": {
    "id": "76563bf9"
   },
   "outputs": [],
   "source": [
    "import pandas as pd\n",
    "import numpy as np\n",
    "#from selenium import webdriver\n",
    "#from selenium.webdriver.common.keys import Keys\n",
    "#from selenium.webdriver.support.ui import Select\n",
    "#from selenium.webdriver.chrome.service import Service\n",
    "import requests\n",
    "from bs4 import BeautifulSoup\n",
    "import time\n",
    "import re\n",
    "import string\n",
    "\n",
    "from datetime import date\n",
    "\n",
    "import datetime\n",
    "import statistics\n",
    "\n",
    "\n",
    "from sklearn.naive_bayes import MultinomialNB\n",
    "from sklearn.linear_model import LogisticRegression\n",
    "from sklearn.ensemble import RandomForestClassifier, GradientBoostingClassifier\n",
    "from sklearn.tree import DecisionTreeClassifier"
   ]
  },
  {
   "cell_type": "markdown",
   "id": "af769ee9",
   "metadata": {
    "id": "af769ee9"
   },
   "source": [
    "## Specify Path"
   ]
  },
  {
   "cell_type": "code",
   "execution_count": 2,
   "id": "747cdbee",
   "metadata": {
    "id": "747cdbee"
   },
   "outputs": [],
   "source": [
    "url = 'http://www.olympedia.org/results/19000437'"
   ]
  },
  {
   "cell_type": "code",
   "execution_count": null,
   "id": "69fe48c2",
   "metadata": {
    "id": "69fe48c2"
   },
   "outputs": [],
   "source": []
  },
  {
   "cell_type": "markdown",
   "id": "e7111bdf",
   "metadata": {
    "id": "e7111bdf"
   },
   "source": [
    "## Get 2021 results"
   ]
  },
  {
   "cell_type": "code",
   "execution_count": 3,
   "id": "e7d9ea1a",
   "metadata": {
    "id": "e7d9ea1a"
   },
   "outputs": [],
   "source": [
    "dfs = pd.read_html('http://www.olympedia.org/results/19000437',encoding='utf8')"
   ]
  },
  {
   "cell_type": "code",
   "execution_count": 4,
   "id": "b2085cfb",
   "metadata": {
    "colab": {
     "base_uri": "https://localhost:8080/"
    },
    "id": "b2085cfb",
    "outputId": "66dcc6a0-f6b3-4a1f-e47e-d3abec97be49"
   },
   "outputs": [
    {
     "name": "stdout",
     "output_type": "stream",
     "text": [
      "               Athlete  NOC  Time\n",
      "0       Eliud Kipchoge  KEN  7718\n",
      "1         Abdi Nageeye  NED  7798\n",
      "2          Bashir Abdi  BEL  7800\n",
      "3     Lawrence Cherono  KEN  7802\n",
      "4       Ayad Lamdassem  ESP  7816\n",
      "..                 ...  ...   ...\n",
      "71          Cam Levins  CAN  8923\n",
      "72        Yuma Hattori  JPN  9008\n",
      "73   José Juan Esparza  MEX  9111\n",
      "74  Jorge Castelblanco  PAN  9202\n",
      "75          Iván Zarco  HON  9876\n",
      "\n",
      "[76 rows x 3 columns]\n"
     ]
    }
   ],
   "source": [
    "#Get the right dataframe\n",
    "dat_2021 = dfs[1]\n",
    "#Get rid of no-finishers\n",
    "dat_2021_clean = dat_2021[dat_2021.Pos != \"AC\"][['Athlete', 'NOC', 'Time']]\n",
    "#get time in a consistent format\n",
    "hours = dat_2021_clean.Time.apply(lambda x: int(x[0]))\n",
    "minutes = dat_2021_clean.Time.apply(lambda x: int(x[2:4]))\n",
    "seconds = dat_2021_clean.Time.apply(lambda x: int(x[5:7]))\n",
    "dat_2021_clean.Time = hours * 3600 + minutes * 60 + seconds\n",
    "print(dat_2021_clean)"
   ]
  },
  {
   "cell_type": "markdown",
   "id": "37fb6731",
   "metadata": {
    "id": "37fb6731"
   },
   "source": [
    "## Get 2021 athlete data"
   ]
  },
  {
   "cell_type": "code",
   "execution_count": 5,
   "id": "d78a3e38",
   "metadata": {
    "id": "d78a3e38"
   },
   "outputs": [],
   "source": [
    "page = requests.get(url)\n",
    "soup = BeautifulSoup(page.text, 'html.parser')"
   ]
  },
  {
   "cell_type": "code",
   "execution_count": null,
   "id": "99b8bc32",
   "metadata": {
    "id": "99b8bc32"
   },
   "outputs": [],
   "source": []
  },
  {
   "cell_type": "code",
   "execution_count": 6,
   "id": "ee241dc9",
   "metadata": {
    "colab": {
     "base_uri": "https://localhost:8080/"
    },
    "id": "ee241dc9",
    "outputId": "3ce7b2c3-5664-48ce-c76a-51ceee405954"
   },
   "outputs": [],
   "source": [
    "#Get athlete id's so that I can parse through the profile pages\n",
    "athlete_id = []\n",
    "i = 0\n",
    "for a in soup.find_all('a', href=True):\n",
    "    if a['href'][1:9] == 'athletes':\n",
    "        athlete_id.append(a['href'][9:])\n",
    "        i = i + 1\n",
    "\n",
    "\n",
    "athlete_id_clean = list(set(athlete_id[4:]))\n"
   ]
  },
  {
   "cell_type": "code",
   "execution_count": null,
   "id": "55eeba99",
   "metadata": {
    "id": "55eeba99"
   },
   "outputs": [],
   "source": []
  },
  {
   "cell_type": "code",
   "execution_count": null,
   "id": "34596dd2",
   "metadata": {
    "id": "34596dd2"
   },
   "outputs": [],
   "source": []
  },
  {
   "cell_type": "code",
   "execution_count": 7,
   "id": "d9699a61",
   "metadata": {
    "id": "d9699a61"
   },
   "outputs": [],
   "source": [
    "#parse through athlete profiles\n",
    "ath_url = 'http://www.olympedia.org/athletes'\n",
    "ath_list = []\n",
    "for ath in athlete_id_clean:\n",
    "    ath_list.append(pd.read_html(ath_url + ath, encoding='utf8'))\n"
   ]
  },
  {
   "cell_type": "code",
   "execution_count": null,
   "id": "75dea240",
   "metadata": {
    "id": "75dea240"
   },
   "outputs": [],
   "source": []
  },
  {
   "cell_type": "code",
   "execution_count": 8,
   "id": "1f672551",
   "metadata": {
    "colab": {
     "base_uri": "https://localhost:8080/"
    },
    "id": "1f672551",
    "outputId": "57b56abf-5de7-4c59-cd93-a6f6c9b357d2"
   },
   "outputs": [],
   "source": [
    "#Get athlete attribute table from the athlete profiles\n",
    "ath_attr = []\n",
    "for attr in ath_list:\n",
    "    for tables in attr:\n",
    "        if tables.iloc[0,0] == 'Type':\n",
    "            tables.columns = ['attr', 'val']\n",
    "            column_names = tables.attr.to_numpy()\n",
    "            value_names = tables.val.to_numpy()\n",
    "            new_table = pd.DataFrame(value_names.reshape(-1, len(value_names)), columns = column_names)\n",
    "            ath_attr.append(new_table)\n",
    "\n",
    "\n"
   ]
  },
  {
   "cell_type": "code",
   "execution_count": 9,
   "id": "3851e443",
   "metadata": {
    "colab": {
     "base_uri": "https://localhost:8080/"
    },
    "id": "3851e443",
    "outputId": "cf8b3f47-3c5e-4878-9727-be3b16f5cd7b"
   },
   "outputs": [
    {
     "name": "stderr",
     "output_type": "stream",
     "text": [
      "<ipython-input-9-a81c381ba49b>:25: SettingWithCopyWarning: \n",
      "A value is trying to be set on a copy of a slice from a DataFrame\n",
      "\n",
      "See the caveats in the documentation: https://pandas.pydata.org/pandas-docs/stable/user_guide/indexing.html#returning-a-view-versus-a-copy\n",
      "  attr_table.weight[i] = weight_possible\n",
      "<ipython-input-9-a81c381ba49b>:27: SettingWithCopyWarning: \n",
      "A value is trying to be set on a copy of a slice from a DataFrame\n",
      "\n",
      "See the caveats in the documentation: https://pandas.pydata.org/pandas-docs/stable/user_guide/indexing.html#returning-a-view-versus-a-copy\n",
      "  attr_table.height[i] = height_possible[0]\n"
     ]
    }
   ],
   "source": [
    "#clean up the data\n",
    "attr_table = pd.concat(ath_attr).reset_index()\n",
    "attr_table = attr_table[['Sex', 'Used name', 'Born', 'NOC', 'Measurements']]\n",
    "#Get birth elements\n",
    "pattern = '\\d+'\n",
    "attr_table['day'] = attr_table.Born.apply(lambda x: int(re.findall(pattern, x)[0]))\n",
    "attr_table['year'] = attr_table.Born.apply(lambda x: int(re.findall(pattern, x)[1]))\n",
    "pattern2 = '\\D+(?=\\s)'\n",
    "attr_table['month'] = attr_table.Born.apply(lambda x: re.findall(pattern2, x)[0])\n",
    "attr_table['age'] = 2021 - attr_table.year\n",
    "attr_table = attr_table.drop('Born', axis=1)\n",
    "#Get the used name in correct format\n",
    "attr_table['Used name'] = attr_table['Used name'].apply(lambda x: x.replace('•', ' '))\n",
    "#Get height and weight in cm and kg\n",
    "attr_table['height'] = np.nan\n",
    "attr_table['weight'] = np.nan\n",
    "pattern = ' cm'\n",
    "pattern = '\\d+'\n",
    "for i in range(len(attr_table)):\n",
    "    if attr_table.Measurements.notna()[i]:\n",
    "        height_possible = attr_table.Measurements[i].split(' cm')\n",
    "        if 'k' in attr_table.Measurements[i]:\n",
    "            weight_possible = attr_table.Measurements[i]\n",
    "            weight_possible = weight_possible[-5:weight_possible.index(\"k\")]\n",
    "            attr_table.weight[i] = weight_possible\n",
    "        if len(height_possible) > 1:\n",
    "            attr_table.height[i] = height_possible[0]  \n",
    "attr_table.drop(['Measurements', 'day', 'year', 'month'], inplace = True, axis = 1)\n"
   ]
  },
  {
   "cell_type": "code",
   "execution_count": 10,
   "id": "c810e65a",
   "metadata": {
    "id": "c810e65a"
   },
   "outputs": [],
   "source": [
    "#write to csv\n",
    "#dat_2021_clean.to_csv('2021_results.csv', index = False)\n",
    "#attr_table.to_csv('runner_attributes_2021.csv', index = False)"
   ]
  },
  {
   "cell_type": "markdown",
   "id": "BVmQBYrAs3XT",
   "metadata": {
    "id": "BVmQBYrAs3XT"
   },
   "source": [
    "## Get GDP"
   ]
  },
  {
   "cell_type": "code",
   "execution_count": 13,
   "id": "2dc8c138",
   "metadata": {
    "id": "2dc8c138"
   },
   "outputs": [],
   "source": [
    "gdp = pd.read_csv(\"data/gdp_csv.csv\")\n",
    "gdp.rename(columns={\"Country Code\": \"Country\"}, inplace= True)\n",
    "gdp.drop(columns= ['Country Name'], inplace= True)\n",
    "\n"
   ]
  },
  {
   "cell_type": "markdown",
   "id": "ZMhT947Wxuzp",
   "metadata": {
    "id": "ZMhT947Wxuzp"
   },
   "source": [
    "## Get marathon attributes and times"
   ]
  },
  {
   "cell_type": "code",
   "execution_count": 14,
   "id": "CiFv4qKqy3-J",
   "metadata": {
    "id": "CiFv4qKqy3-J"
   },
   "outputs": [],
   "source": [
    "def age(birthdate):\n",
    "    today = date.today()\n",
    "    one_or_zero = ((today.month, today.day) < (birthdate.month, birthdate.day))\n",
    "    year_difference = today.year - birthdate.year\n",
    "    age = year_difference - one_or_zero\n",
    "    return age\n",
    "\n",
    "def year(date):\n",
    "  return date.year  \n",
    "\n",
    "def seconds(date):\n",
    "  return date.total_seconds() \n",
    "\n",
    "\n"
   ]
  },
  {
   "cell_type": "code",
   "execution_count": 17,
   "id": "zBN4JiJCyEOI",
   "metadata": {
    "id": "zBN4JiJCyEOI"
   },
   "outputs": [],
   "source": [
    "Mara_attr_times = pd.read_csv('data/running_times.csv')\n",
    "Mara_attr_times = Mara_attr_times[Mara_attr_times['Event'] == 'Marathon']\n",
    "Mara_attr_times = Mara_attr_times[Mara_attr_times['Gender'] == 'Men']\n",
    "\n",
    "# Find number of Marathons\n",
    "Number_Marathons = Mara_attr_times.groupby(\"Name\").count()\n",
    "Number_Marathons.reset_index(inplace= True)\n",
    "Number_Marathons = Number_Marathons.filter(['Name', 'Rank'])\n",
    "Number_Marathons['Previous marathons'] = Number_Marathons['Rank']\n",
    "\n",
    "#Convert to Datetime\n",
    "Mara_attr_times['Date of Birth'] = pd.to_datetime(Mara_attr_times['Date of Birth'])\n",
    "Mara_attr_times['Date'] = pd.to_datetime(Mara_attr_times['Date'])\n",
    "Mara_attr_times['Time'] = pd.to_datetime(Mara_attr_times['Time'], format= \"%H:%M:%S\") - datetime.datetime(1900, 1, 1)\n",
    "\n",
    "#Clean the data\n",
    "Mara_attr_times['Year'] = Mara_attr_times['Date'].apply(year)\n",
    "Mara_attr_times['Age'] = Mara_attr_times['Date of Birth'].apply(age)\n",
    "Mara_attr_times['Time'] = Mara_attr_times['Time'].apply(seconds)\n",
    "Mara_attr_times.drop(columns = ['Date of Birth', 'Gender', 'Event', 'Rank', 'Place', 'City'], inplace= True)\n",
    "\n",
    "#Merge GDP and Previous Marathons\n",
    "Mara_attr_times = pd.merge(Mara_attr_times, Number_Marathons, on = \"Name\")\n",
    "Mara_attr_times = pd.merge(Mara_attr_times, gdp, on = ['Country', 'Year'], how = \"left\")\n",
    "Mara_attr_times[\"GDP\"] = Mara_attr_times[\"Value\"]\n",
    "Mara_attr_times.drop(columns=['Country', 'Value', 'Rank'], inplace= True)\n",
    "\n"
   ]
  },
  {
   "cell_type": "markdown",
   "id": "92d84434",
   "metadata": {
    "id": "1F66t-LlJSYZ"
   },
   "source": [
    "## Read in and merge data"
   ]
  },
  {
   "cell_type": "code",
   "execution_count": 18,
   "id": "36611b54",
   "metadata": {
    "id": "36611b54"
   },
   "outputs": [],
   "source": [
    "Athlete_events = pd.read_csv(\"data/athlete_events.csv\")\n",
    "\n",
    "Athlete_events = Athlete_events[Athlete_events[\"Sex\"] == \"M\"]\n",
    "\n",
    "Athlete_events.drop_duplicates(subset=['Name'], inplace= True)\n",
    "Athlete_events = Athlete_events.filter(['Name','Weight','Height'])\n"
   ]
  },
  {
   "cell_type": "code",
   "execution_count": 19,
   "id": "2nSHAOozKNuM",
   "metadata": {
    "id": "2nSHAOozKNuM"
   },
   "outputs": [],
   "source": [
    "Mara_attr_times = pd.merge(Mara_attr_times, Athlete_events, on = \"Name\", how = \"left\")\n",
    "\n"
   ]
  },
  {
   "cell_type": "code",
   "execution_count": 20,
   "id": "jL_lZiMl_1pr",
   "metadata": {
    "colab": {
     "base_uri": "https://localhost:8080/"
    },
    "id": "jL_lZiMl_1pr",
    "outputId": "c7cd1657-9fb5-4a2d-809b-bd2006382986"
   },
   "outputs": [
    {
     "name": "stdout",
     "output_type": "stream",
     "text": [
      "       Time                   Name       Date  Last Time\n",
      "916  7684.0        Zithulele Sinqe 1986-05-03        NaN\n",
      "936  7688.0          Yusuf Songoka 2011-04-10        NaN\n",
      "953  7694.0          Yuki Kawauchi 2013-03-17        NaN\n",
      "954  7695.0          Yuki Kawauchi 2013-02-03        NaN\n",
      "892  7679.0    Yoshiteru Morishita 2001-03-04        NaN\n",
      "..      ...                    ...        ...        ...\n",
      "546  7695.0  Abdelkader El Mouaziz 1999-01-31        NaN\n",
      "545  7687.0  Abdelkader El Mouaziz 1998-04-26        NaN\n",
      "538  7662.0          Abayneh Ayele 2017-04-09        NaN\n",
      "536  7605.0          Abayneh Ayele 2016-01-22        NaN\n",
      "537  7636.0          Abayneh Ayele 2015-10-11        NaN\n",
      "\n",
      "[999 rows x 4 columns]\n"
     ]
    },
    {
     "name": "stderr",
     "output_type": "stream",
     "text": [
      "<ipython-input-20-79dde42a7183>:2: SettingWithCopyWarning: \n",
      "A value is trying to be set on a copy of a slice from a DataFrame\n",
      "\n",
      "See the caveats in the documentation: https://pandas.pydata.org/pandas-docs/stable/user_guide/indexing.html#returning-a-view-versus-a-copy\n",
      "  TND.sort_values(by = [\"Name\", \"Date\"], inplace= True)\n",
      "<ipython-input-20-79dde42a7183>:3: SettingWithCopyWarning: \n",
      "A value is trying to be set on a copy of a slice from a DataFrame\n",
      "\n",
      "See the caveats in the documentation: https://pandas.pydata.org/pandas-docs/stable/user_guide/indexing.html#returning-a-view-versus-a-copy\n",
      "  TND.sort_values(by = [\"Name\", \"Date\"], inplace= True, ascending= False)\n",
      "<ipython-input-20-79dde42a7183>:4: SettingWithCopyWarning: \n",
      "A value is trying to be set on a copy of a slice from a DataFrame.\n",
      "Try using .loc[row_indexer,col_indexer] = value instead\n",
      "\n",
      "See the caveats in the documentation: https://pandas.pydata.org/pandas-docs/stable/user_guide/indexing.html#returning-a-view-versus-a-copy\n",
      "  TND[\"Last Time\"] = np.nan\n"
     ]
    }
   ],
   "source": [
    "TND = Mara_attr_times[[\"Time\", \"Name\", \"Date\"]]\n",
    "TND.sort_values(by = [\"Name\", \"Date\"], inplace= True)\n",
    "TND.sort_values(by = [\"Name\", \"Date\"], inplace= True, ascending= False)\n",
    "TND[\"Last Time\"] = np.nan\n",
    "print(TND)"
   ]
  },
  {
   "cell_type": "code",
   "execution_count": 21,
   "id": "YomuE3XeGdpc",
   "metadata": {
    "colab": {
     "base_uri": "https://localhost:8080/",
     "height": 606
    },
    "id": "YomuE3XeGdpc",
    "outputId": "8e7a599b-d9d7-4956-a193-26cdb54e7f03"
   },
   "outputs": [
    {
     "name": "stderr",
     "output_type": "stream",
     "text": [
      "C:\\Users\\ritch\\anaconda3\\lib\\site-packages\\pandas\\core\\indexing.py:1720: SettingWithCopyWarning: \n",
      "A value is trying to be set on a copy of a slice from a DataFrame.\n",
      "Try using .loc[row_indexer,col_indexer] = value instead\n",
      "\n",
      "See the caveats in the documentation: https://pandas.pydata.org/pandas-docs/stable/user_guide/indexing.html#returning-a-view-versus-a-copy\n",
      "  self._setitem_single_column(loc, value, pi)\n",
      "C:\\Users\\ritch\\anaconda3\\lib\\site-packages\\pandas\\core\\frame.py:4308: SettingWithCopyWarning: \n",
      "A value is trying to be set on a copy of a slice from a DataFrame\n",
      "\n",
      "See the caveats in the documentation: https://pandas.pydata.org/pandas-docs/stable/user_guide/indexing.html#returning-a-view-versus-a-copy\n",
      "  return super().drop(\n"
     ]
    },
    {
     "data": {
      "text/html": [
       "<div>\n",
       "<style scoped>\n",
       "    .dataframe tbody tr th:only-of-type {\n",
       "        vertical-align: middle;\n",
       "    }\n",
       "\n",
       "    .dataframe tbody tr th {\n",
       "        vertical-align: top;\n",
       "    }\n",
       "\n",
       "    .dataframe thead th {\n",
       "        text-align: right;\n",
       "    }\n",
       "</style>\n",
       "<table border=\"1\" class=\"dataframe\">\n",
       "  <thead>\n",
       "    <tr style=\"text-align: right;\">\n",
       "      <th></th>\n",
       "      <th>Time</th>\n",
       "      <th>Name</th>\n",
       "      <th>Date</th>\n",
       "      <th>Year</th>\n",
       "      <th>Age</th>\n",
       "      <th>Previous marathons</th>\n",
       "      <th>GDP</th>\n",
       "      <th>Weight</th>\n",
       "      <th>Height</th>\n",
       "      <th>Last Time</th>\n",
       "    </tr>\n",
       "  </thead>\n",
       "  <tbody>\n",
       "    <tr>\n",
       "      <th>0</th>\n",
       "      <td>7377.0</td>\n",
       "      <td>Dennis Kimetto</td>\n",
       "      <td>2014-09-28</td>\n",
       "      <td>2014</td>\n",
       "      <td>37</td>\n",
       "      <td>5</td>\n",
       "      <td>6.144535e+10</td>\n",
       "      <td>NaN</td>\n",
       "      <td>NaN</td>\n",
       "      <td>7425.0</td>\n",
       "    </tr>\n",
       "    <tr>\n",
       "      <th>1</th>\n",
       "      <td>7425.0</td>\n",
       "      <td>Dennis Kimetto</td>\n",
       "      <td>2013-10-13</td>\n",
       "      <td>2013</td>\n",
       "      <td>37</td>\n",
       "      <td>5</td>\n",
       "      <td>5.509734e+10</td>\n",
       "      <td>NaN</td>\n",
       "      <td>NaN</td>\n",
       "      <td>7610.0</td>\n",
       "    </tr>\n",
       "    <tr>\n",
       "      <th>2</th>\n",
       "      <td>7456.0</td>\n",
       "      <td>Dennis Kimetto</td>\n",
       "      <td>2012-09-30</td>\n",
       "      <td>2012</td>\n",
       "      <td>37</td>\n",
       "      <td>5</td>\n",
       "      <td>5.041275e+10</td>\n",
       "      <td>NaN</td>\n",
       "      <td>NaN</td>\n",
       "      <td>NaN</td>\n",
       "    </tr>\n",
       "    <tr>\n",
       "      <th>3</th>\n",
       "      <td>7550.0</td>\n",
       "      <td>Dennis Kimetto</td>\n",
       "      <td>2015-04-26</td>\n",
       "      <td>2015</td>\n",
       "      <td>37</td>\n",
       "      <td>5</td>\n",
       "      <td>6.376754e+10</td>\n",
       "      <td>NaN</td>\n",
       "      <td>NaN</td>\n",
       "      <td>7377.0</td>\n",
       "    </tr>\n",
       "    <tr>\n",
       "      <th>4</th>\n",
       "      <td>7610.0</td>\n",
       "      <td>Dennis Kimetto</td>\n",
       "      <td>2013-02-24</td>\n",
       "      <td>2013</td>\n",
       "      <td>37</td>\n",
       "      <td>5</td>\n",
       "      <td>5.509734e+10</td>\n",
       "      <td>NaN</td>\n",
       "      <td>NaN</td>\n",
       "      <td>7456.0</td>\n",
       "    </tr>\n",
       "    <tr>\n",
       "      <th>...</th>\n",
       "      <td>...</td>\n",
       "      <td>...</td>\n",
       "      <td>...</td>\n",
       "      <td>...</td>\n",
       "      <td>...</td>\n",
       "      <td>...</td>\n",
       "      <td>...</td>\n",
       "      <td>...</td>\n",
       "      <td>...</td>\n",
       "      <td>...</td>\n",
       "    </tr>\n",
       "    <tr>\n",
       "      <th>996</th>\n",
       "      <td>7704.0</td>\n",
       "      <td>Daniel Kipkorir Chepyegon</td>\n",
       "      <td>2010-10-31</td>\n",
       "      <td>2010</td>\n",
       "      <td>35</td>\n",
       "      <td>1</td>\n",
       "      <td>2.018650e+10</td>\n",
       "      <td>NaN</td>\n",
       "      <td>NaN</td>\n",
       "      <td>NaN</td>\n",
       "    </tr>\n",
       "    <tr>\n",
       "      <th>997</th>\n",
       "      <td>7704.0</td>\n",
       "      <td>Hiroyuki Horibata</td>\n",
       "      <td>2012-12-02</td>\n",
       "      <td>2012</td>\n",
       "      <td>35</td>\n",
       "      <td>1</td>\n",
       "      <td>6.203213e+12</td>\n",
       "      <td>NaN</td>\n",
       "      <td>NaN</td>\n",
       "      <td>NaN</td>\n",
       "    </tr>\n",
       "    <tr>\n",
       "      <th>998</th>\n",
       "      <td>7705.0</td>\n",
       "      <td>Paul Kipsambu</td>\n",
       "      <td>1999-04-04</td>\n",
       "      <td>1999</td>\n",
       "      <td>59</td>\n",
       "      <td>1</td>\n",
       "      <td>1.289601e+10</td>\n",
       "      <td>NaN</td>\n",
       "      <td>NaN</td>\n",
       "      <td>NaN</td>\n",
       "    </tr>\n",
       "    <tr>\n",
       "      <th>999</th>\n",
       "      <td>7705.0</td>\n",
       "      <td>Wegayehu Girma</td>\n",
       "      <td>2010-11-07</td>\n",
       "      <td>2010</td>\n",
       "      <td>33</td>\n",
       "      <td>1</td>\n",
       "      <td>2.993379e+10</td>\n",
       "      <td>NaN</td>\n",
       "      <td>NaN</td>\n",
       "      <td>NaN</td>\n",
       "    </tr>\n",
       "    <tr>\n",
       "      <th>1000</th>\n",
       "      <td>7705.0</td>\n",
       "      <td>Daniel Kirwa Too</td>\n",
       "      <td>2011-10-23</td>\n",
       "      <td>2011</td>\n",
       "      <td>45</td>\n",
       "      <td>1</td>\n",
       "      <td>4.195343e+10</td>\n",
       "      <td>NaN</td>\n",
       "      <td>NaN</td>\n",
       "      <td>NaN</td>\n",
       "    </tr>\n",
       "  </tbody>\n",
       "</table>\n",
       "<p>1001 rows × 10 columns</p>\n",
       "</div>"
      ],
      "text/plain": [
       "        Time                       Name       Date  Year  Age  \\\n",
       "0     7377.0             Dennis Kimetto 2014-09-28  2014   37   \n",
       "1     7425.0             Dennis Kimetto 2013-10-13  2013   37   \n",
       "2     7456.0             Dennis Kimetto 2012-09-30  2012   37   \n",
       "3     7550.0             Dennis Kimetto 2015-04-26  2015   37   \n",
       "4     7610.0             Dennis Kimetto 2013-02-24  2013   37   \n",
       "...      ...                        ...        ...   ...  ...   \n",
       "996   7704.0  Daniel Kipkorir Chepyegon 2010-10-31  2010   35   \n",
       "997   7704.0          Hiroyuki Horibata 2012-12-02  2012   35   \n",
       "998   7705.0              Paul Kipsambu 1999-04-04  1999   59   \n",
       "999   7705.0             Wegayehu Girma 2010-11-07  2010   33   \n",
       "1000  7705.0           Daniel Kirwa Too 2011-10-23  2011   45   \n",
       "\n",
       "      Previous marathons           GDP  Weight  Height  Last Time  \n",
       "0                      5  6.144535e+10     NaN     NaN     7425.0  \n",
       "1                      5  5.509734e+10     NaN     NaN     7610.0  \n",
       "2                      5  5.041275e+10     NaN     NaN        NaN  \n",
       "3                      5  6.376754e+10     NaN     NaN     7377.0  \n",
       "4                      5  5.509734e+10     NaN     NaN     7456.0  \n",
       "...                  ...           ...     ...     ...        ...  \n",
       "996                    1  2.018650e+10     NaN     NaN        NaN  \n",
       "997                    1  6.203213e+12     NaN     NaN        NaN  \n",
       "998                    1  1.289601e+10     NaN     NaN        NaN  \n",
       "999                    1  2.993379e+10     NaN     NaN        NaN  \n",
       "1000                   1  4.195343e+10     NaN     NaN        NaN  \n",
       "\n",
       "[1001 rows x 10 columns]"
      ]
     },
     "execution_count": 21,
     "metadata": {},
     "output_type": "execute_result"
    }
   ],
   "source": [
    "#get last marathon time\n",
    "for i in range(len(TND)):\n",
    " if i < len(TND) - 1:\n",
    "   if TND.iloc[i,1] == TND.iloc[i+1,1]:\n",
    "     TND.iloc[i,3] = TND.iloc[i+1,0]\n",
    "TND.drop(columns= ['Time'], inplace= True)\n",
    "Mara_attr_times = pd.merge(Mara_attr_times, TND, on = [\"Name\", \"Date\"])\n",
    "\n",
    "\n",
    "Mara_attr_times"
   ]
  },
  {
   "cell_type": "code",
   "execution_count": 22,
   "id": "0cbfb0bc",
   "metadata": {},
   "outputs": [
    {
     "name": "stdout",
     "output_type": "stream",
     "text": [
      "    Sex             Athlete           NOC  age  height  weight\n",
      "0  Male    Filex Chemongesi        Uganda   28     NaN     NaN\n",
      "1  Male        Marhu Teferi        Israel   29   164.0    52.0\n",
      "2  Male        Elroy Gelant  South Africa   35   175.0    61.0\n",
      "3  Male  Bat-Ochiryn Ser-Od      Mongolia   40   169.0    61.0\n",
      "4  Male       Lelisa Desisa      Ethiopia   31     NaN     NaN\n",
      "            Athlete  NOC  Time\n",
      "0    Eliud Kipchoge  KEN  7718\n",
      "1      Abdi Nageeye  NED  7798\n",
      "2       Bashir Abdi  BEL  7800\n",
      "3  Lawrence Cherono  KEN  7802\n",
      "4    Ayad Lamdassem  ESP  7816\n",
      "            Athlete  age  height  weight  Time  Year         Value\n",
      "0  Filex Chemongesi   28    -1.0    -1.0  8453  2016  2.407893e+10\n",
      "1      Marhu Teferi   29   164.0    52.0  7982  2016  3.177448e+11\n",
      "2      Elroy Gelant   35   175.0    61.0  8203  2016           NaN\n",
      "3    Brett Robinson   30   176.0    60.0  8644  2016  1.204616e+12\n",
      "4      Yuma Hattori   28    -1.0    -1.0  9008  2016  4.940159e+12\n",
      "   age  height  weight  Time  Year         Value  Previous marathons  \\\n",
      "0   28    -1.0    -1.0  8453  2021  2.407893e+10                 NaN   \n",
      "1   29   164.0    52.0  7982  2021  3.177448e+11                 NaN   \n",
      "2   35   175.0    61.0  8203  2021           NaN                 NaN   \n",
      "3   30   176.0    60.0  8644  2021  1.204616e+12                 NaN   \n",
      "4   28    -1.0    -1.0  9008  2021  4.940159e+12                 NaN   \n",
      "\n",
      "   Last Time  \n",
      "0        NaN  \n",
      "1        NaN  \n",
      "2        NaN  \n",
      "3        NaN  \n",
      "4        NaN  \n"
     ]
    }
   ],
   "source": [
    "#read in data for test set\n",
    "run_attr = pd.read_csv(r'runner_attributes_2021.csv')\n",
    "run_results = pd.read_csv(r'2021_results.csv')\n",
    "#merge datasets for runner attributes\n",
    "run_attr.rename({'Used name': 'Athlete'}, axis = 1, inplace=True)\n",
    "join_table = run_attr.merge(run_results, on = 'Athlete')\n",
    "#clean data\n",
    "join_table.fillna(-1, inplace = True)\n",
    "join_table.drop(['Sex', 'NOC_x'], axis=1, inplace = True)\n",
    "join_table['Year'] = 2016\n",
    "#merge data for gdp\n",
    "join_table = join_table.merge(gdp, how = 'left', left_on = ['NOC_y', 'Year'], right_on = ['Country', 'Year'])\n",
    "join_table.drop(['Country', 'NOC_y'], axis=1, inplace = True)\n",
    "join_table.rename({'Value': 'GDP'})\n",
    "print(join_table.head())\n",
    "#join with previous marathon data\n",
    "final_table = join_table.merge(Mara_attr_times[['Name', 'Year', 'Previous marathons', 'Last Time']], how = 'left', left_on = ['Athlete', 'Year'], right_on = ['Name', 'Year'])\n",
    "final_table['Year'] = 2021\n",
    "final_table.drop(['Name', 'Athlete'], inplace = True, axis = 1)\n",
    "print(final_table.head())\n",
    "final_table.to_csv(r'data/2021_final.csv')"
   ]
  },
  {
   "cell_type": "code",
   "execution_count": null,
   "id": "33a938d7",
   "metadata": {},
   "outputs": [],
   "source": []
  },
  {
   "cell_type": "code",
   "execution_count": 23,
   "id": "0M3rYHLQJIdd",
   "metadata": {
    "id": "0M3rYHLQJIdd"
   },
   "outputs": [],
   "source": [
    "Final_Mara_attr_times = Mara_attr_times.drop(columns= [\"Date\", \"Name\"])\n",
    "Final_Mara_attr_times.rename(columns={\"Time\": \"Results\"}, inplace= True)"
   ]
  },
  {
   "cell_type": "code",
   "execution_count": 24,
   "id": "-lnJePZVN1AF",
   "metadata": {
    "id": "-lnJePZVN1AF"
   },
   "outputs": [],
   "source": [
    "Final_Mara_attr_times.to_csv(r'data/Final_Mara_attr_times.csv', index = False)"
   ]
  },
  {
   "cell_type": "code",
   "execution_count": 25,
   "id": "ychU9lqcKaQs",
   "metadata": {
    "colab": {
     "base_uri": "https://localhost:8080/"
    },
    "id": "ychU9lqcKaQs",
    "outputId": "8ed4063e-571c-4807-865b-a71fe0a895e6"
   },
   "outputs": [
    {
     "name": "stdout",
     "output_type": "stream",
     "text": [
      "Results 7629.44 64.54\n",
      "Year 2009.34 6.43\n",
      "Age 39.57 7.96\n",
      "Previous marathons 4.17 3.09\n",
      "GDP 369753182906.83 1553507034473.51\n",
      "Weight 59.44 4.27\n",
      "Height 173.09 6.7\n",
      "Last Time 7615.59 70.08\n"
     ]
    }
   ],
   "source": [
    "# Calc Mean and STD\n",
    "for col in Final_Mara_attr_times.columns:\n",
    "  print(col, round(np.nanmean(Final_Mara_attr_times[col]),2), round(np.nanstd(Final_Mara_attr_times[col]),2))"
   ]
  },
  {
   "cell_type": "code",
   "execution_count": null,
   "id": "c1aac3dd",
   "metadata": {},
   "outputs": [],
   "source": []
  }
 ],
 "metadata": {
  "colab": {
   "name": "Scraping Script.ipynb",
   "provenance": []
  },
  "kernelspec": {
   "display_name": "Python 3",
   "language": "python",
   "name": "python3"
  },
  "language_info": {
   "codemirror_mode": {
    "name": "ipython",
    "version": 3
   },
   "file_extension": ".py",
   "mimetype": "text/x-python",
   "name": "python",
   "nbconvert_exporter": "python",
   "pygments_lexer": "ipython3",
   "version": "3.8.8"
  }
 },
 "nbformat": 4,
 "nbformat_minor": 5
}
